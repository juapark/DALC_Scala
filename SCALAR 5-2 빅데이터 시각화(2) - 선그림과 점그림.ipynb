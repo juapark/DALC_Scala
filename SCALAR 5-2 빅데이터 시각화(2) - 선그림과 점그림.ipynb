{
 "cells": [
  {
   "cell_type": "markdown",
   "metadata": {},
   "source": [
    "# 1) 선그림(line plot)"
   ]
  },
  {
   "cell_type": "code",
   "execution_count": 1,
   "metadata": {},
   "outputs": [],
   "source": [
    "%matplotlib inline\n",
    "import matplotlib.pyplot as plt\n",
    "plt.style.use('seaborn-whitegrid')\n",
    "import numpy as np"
   ]
  },
  {
   "cell_type": "code",
   "execution_count": 3,
   "metadata": {},
   "outputs": [
    {
     "data": {
      "text/plain": [
       "<Figure size 432x288 with 0 Axes>"
      ]
     },
     "metadata": {},
     "output_type": "display_data"
    }
   ],
   "source": [
    "# 빈 그림판 생성\n",
    "fig = plt.figure()\n",
    "# 그림판의 크기, 배경색, 테두리색 등을 괄호 안에 인자 값을 설정하여 변경 가능"
   ]
  },
  {
   "cell_type": "code",
   "execution_count": 4,
   "metadata": {},
   "outputs": [
    {
     "data": {
      "text/plain": [
       "Text(0.5, 0.98, 'Example 1: line plot')"
      ]
     },
     "execution_count": 4,
     "metadata": {},
     "output_type": "execute_result"
    }
   ],
   "source": [
    "# 제목 설정\n",
    "fig.suptitle(\"Example 1: line plot\")"
   ]
  },
  {
   "cell_type": "code",
   "execution_count": 5,
   "metadata": {},
   "outputs": [
    {
     "data": {
      "image/png": "[encoded data removed]",
      "text/plain": [
       "<Figure size 432x288 with 1 Axes>"
      ]
     },
     "metadata": {},
     "output_type": "display_data"
    }
   ],
   "source": [
    "ax = plt.axes()"
   ]
  },
  {
   "cell_type": "code",
   "execution_count": 10,
   "metadata": {},
   "outputs": [],
   "source": [
    "#plt.plot(x, y);\n",
    "#plt.plot(x, np.sin(x));"
   ]
  },
  {
   "cell_type": "markdown",
   "metadata": {},
   "source": [
    "## 선색과 스타일\n",
    "* plt.plot(x, np.sin(x - 0), color = 'blue')\n",
    "* plt.plot(x, np.sin(x - 1), color = 'g') # 짧은 색상 코드 ( rgb, cmyk)\n",
    "* plt.plot(x, np.sin(x - 2), color = '0.75')\n",
    "* plt.plot(x, np.sin(x - 3), color = '#FFDD44')\n",
    "* plt.plot(x, np.sin(x - 4), color = (1, 0, 0, 2, 0, 3))\n",
    "* plt.plot(x, np.sin(x - 5), color = 'chartreuse');"
   ]
  },
  {
   "cell_type": "markdown",
   "metadata": {},
   "source": [
    "* plt.plot(x, x + 0, '-g') -> solid green\n",
    "* plt.plot(x, x + 1, '--c') -> dashed cyan')\n",
    "* plt.plot(x, x + 2, '-.k') -> dashed black\n",
    "* plt.plot(x, x + 3, ':r') -> dotted red"
   ]
  },
  {
   "cell_type": "markdown",
   "metadata": {},
   "source": [
    "## 축의 범위 지정\n",
    "* plt.plot(x, np.cos(x))\n",
    "* plt.xlim(-1, 11)\n",
    "* plt.ylim(-1.5, 1.5)\n",
    "\n",
    "## 축을 상하, 좌우 반전\n",
    "* plt.plot(x, np.cos(x))\n",
    "* plt.xlim(11, -1)\n",
    "* plt.ylim(1.1, -1.1)\n"
   ]
  },
  {
   "cell_type": "markdown",
   "metadata": {},
   "source": [
    "## 축의 범위 지정\n",
    "* plt.plot(x, np.cos(x*2))\n",
    "* plt.axis([-1, 11, -1.5, 1.5])\n",
    "* [x축 최소값, x축 최대값, y축 최소값, y축 최대값]"
   ]
  },
  {
   "cell_type": "markdown",
   "metadata": {},
   "source": [
    "## 축의 스케일 변경\n",
    "* plt.plot(x, np.exp(-x));\n",
    "* plt.plot(x, np.exp(-x))\n",
    "* plt.yscale(\"log\");\n"
   ]
  },
  {
   "cell_type": "markdown",
   "metadata": {},
   "source": [
    "## 축의 레이블 추가(부가적인 설명)\n",
    "* plt.plot(x, np.cos(x))\n",
    "* plt.title(\"A Cosine Curve\")\n",
    "* plt.xlabel(\"x\")\n",
    "* plt.ylabel(\"sin(x)\");"
   ]
  },
  {
   "cell_type": "markdown",
   "metadata": {},
   "source": [
    "## 범례 추가 ( 여러 개의 라인을 동시에 그리는 경우)\n",
    "* plt.plot(x, np.sin(x), '-g', label = 'sin(x)')\n",
    "* plt.plot(x, np.cos(x), ':b', label = 'cos(x)')\n",
    "* plt.axis('equal')\n",
    "* plt.title('Curves pf Sine and Cosine')\n",
    "* plt.xlable('x')\n",
    "* plt.legend() 범례 표시하려면 이거 메소드 호출\n"
   ]
  },
  {
   "cell_type": "markdown",
   "metadata": {},
   "source": [
    "# 2) 점그림(Scatter plot)\n",
    "* 점과 점 사이의 선후관계나 관련성이 없는 경우 이용"
   ]
  },
  {
   "cell_type": "markdown",
   "metadata": {},
   "source": [
    "## 간단한 점그림\n",
    "* x = np.linspace(0, 10, 25)\n",
    "* plt.plot(x, x, 'o', color = 'r') 원형의 점\n",
    "* plt.plot(x, x + 2, '.', color = 'g') 크기가 더 작은 원형의 점\n",
    "* plt.plot(x, x + 4, 's-', color = 'b') 사각형 점\n",
    "* plt.plot(x, x + 6, 'd--', color = 'c') 마름모꼴 도형의 점"
   ]
  },
  {
   "cell_type": "code",
   "execution_count": 12,
   "metadata": {},
   "outputs": [
    {
     "data": {
      "text/plain": [
       "[<matplotlib.lines.Line2D at 0x220e255a940>]"
      ]
     },
     "execution_count": 12,
     "metadata": {},
     "output_type": "execute_result"
    },
    {
     "data": {
      "image/png": "[encoded data removed]",
      "text/plain": [
       "<Figure size 432x288 with 1 Axes>"
      ]
     },
     "metadata": {},
     "output_type": "display_data"
    }
   ],
   "source": [
    "x = np.linspace(0, 10, 25)\n",
    "plt.plot(x, x, 'o', color = 'r') \n",
    "plt.plot(x, x + 2, '.', color = 'g') \n",
    "plt.plot(x, x + 4, 's-', color = 'b') \n",
    "plt.plot(x, x + 6, 'd--', color = 'c')"
   ]
  },
  {
   "cell_type": "markdown",
   "metadata": {},
   "source": [
    "### 편리한 방법 - 한 번에 모두 입력\n",
    "* plt.plot(x, np.sin(x), '-og') "
   ]
  },
  {
   "cell_type": "markdown",
   "metadata": {},
   "source": [
    "plt.scatter과 plt.plot 차이점\n",
    "* 개별 점의 속성(크기, 모서리, 색상 등)을 상세하게 제어 가능"
   ]
  }
 ],
 "metadata": {
  "kernelspec": {
   "display_name": "Python 3",
   "language": "python",
   "name": "python3"
  },
  "language_info": {
   "codemirror_mode": {
    "name": "ipython",
    "version": 3
   },
   "file_extension": ".py",
   "mimetype": "text/x-python",
   "name": "python",
   "nbconvert_exporter": "python",
   "pygments_lexer": "ipython3",
   "version": "3.8.5"
  }
 },
 "nbformat": 4,
 "nbformat_minor": 4
}
