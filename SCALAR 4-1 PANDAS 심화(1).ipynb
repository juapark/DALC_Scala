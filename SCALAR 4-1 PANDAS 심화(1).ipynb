{
 "cells": [
  {
   "cell_type": "code",
   "execution_count": 1,
   "metadata": {},
   "outputs": [],
   "source": [
    "import pandas as pd\n",
    "import numpy as np"
   ]
  },
  {
   "cell_type": "markdown",
   "metadata": {},
   "source": [
    "## 1. csv파일\n",
    "* comma-separated values\n",
    "* 필드를 쉼표로 구분한 텍스트 데이터\n",
    "* 확장자 csv사용\n",
    "* read_csv\n",
    "* to_csv() => 데이터를 csv로 저장하기"
   ]
  },
  {
   "cell_type": "code",
   "execution_count": 31,
   "metadata": {},
   "outputs": [
    {
     "data": {
      "text/html": [
       "<div>\n",
       "<style scoped>\n",
       "    .dataframe tbody tr th:only-of-type {\n",
       "        vertical-align: middle;\n",
       "    }\n",
       "\n",
       "    .dataframe tbody tr th {\n",
       "        vertical-align: top;\n",
       "    }\n",
       "\n",
       "    .dataframe thead th {\n",
       "        text-align: right;\n",
       "    }\n",
       "</style>\n",
       "<table border=\"1\" class=\"dataframe\">\n",
       "  <thead>\n",
       "    <tr style=\"text-align: right;\">\n",
       "      <th></th>\n",
       "      <th>0</th>\n",
       "      <th>1</th>\n",
       "      <th>2</th>\n",
       "      <th>3</th>\n",
       "      <th>4</th>\n",
       "      <th>5</th>\n",
       "      <th>6</th>\n",
       "      <th>7</th>\n",
       "    </tr>\n",
       "  </thead>\n",
       "  <tbody>\n",
       "    <tr>\n",
       "      <th>0</th>\n",
       "      <td>측정일시</td>\n",
       "      <td>측정소명</td>\n",
       "      <td>이산화질소농도(ppm)</td>\n",
       "      <td>오존농도(ppm)</td>\n",
       "      <td>이산화탄소농도(ppm)</td>\n",
       "      <td>아황산가스(ppm)</td>\n",
       "      <td>미세먼지(㎍/㎥)</td>\n",
       "      <td>초미세먼지(㎍/㎥)</td>\n",
       "    </tr>\n",
       "    <tr>\n",
       "      <th>1</th>\n",
       "      <td>20190101</td>\n",
       "      <td>강남구</td>\n",
       "      <td>0.028</td>\n",
       "      <td>0.012</td>\n",
       "      <td>0.6</td>\n",
       "      <td>0.005</td>\n",
       "      <td>37</td>\n",
       "      <td>31</td>\n",
       "    </tr>\n",
       "    <tr>\n",
       "      <th>2</th>\n",
       "      <td>20190101</td>\n",
       "      <td>강남대로</td>\n",
       "      <td>0.041</td>\n",
       "      <td>0.01</td>\n",
       "      <td>0.9</td>\n",
       "      <td>0.004</td>\n",
       "      <td>40</td>\n",
       "      <td>28</td>\n",
       "    </tr>\n",
       "    <tr>\n",
       "      <th>3</th>\n",
       "      <td>20190101</td>\n",
       "      <td>강동구</td>\n",
       "      <td>0.04</td>\n",
       "      <td>0.01</td>\n",
       "      <td>0.8</td>\n",
       "      <td>0.005</td>\n",
       "      <td>43</td>\n",
       "      <td>32</td>\n",
       "    </tr>\n",
       "    <tr>\n",
       "      <th>4</th>\n",
       "      <td>20190101</td>\n",
       "      <td>강변북로</td>\n",
       "      <td>0.048</td>\n",
       "      <td>0.009</td>\n",
       "      <td>0.5</td>\n",
       "      <td>0.005</td>\n",
       "      <td>45</td>\n",
       "      <td>27</td>\n",
       "    </tr>\n",
       "    <tr>\n",
       "      <th>...</th>\n",
       "      <td>...</td>\n",
       "      <td>...</td>\n",
       "      <td>...</td>\n",
       "      <td>...</td>\n",
       "      <td>...</td>\n",
       "      <td>...</td>\n",
       "      <td>...</td>\n",
       "      <td>...</td>\n",
       "    </tr>\n",
       "    <tr>\n",
       "      <th>17071</th>\n",
       "      <td>20191231</td>\n",
       "      <td>청계천로</td>\n",
       "      <td>0.016</td>\n",
       "      <td>0.023</td>\n",
       "      <td>0.4</td>\n",
       "      <td>0.003</td>\n",
       "      <td>24</td>\n",
       "      <td>17</td>\n",
       "    </tr>\n",
       "    <tr>\n",
       "      <th>17072</th>\n",
       "      <td>20191231</td>\n",
       "      <td>한강대로</td>\n",
       "      <td>0.02</td>\n",
       "      <td>0.018</td>\n",
       "      <td>0.4</td>\n",
       "      <td>0.003</td>\n",
       "      <td>27</td>\n",
       "      <td>12</td>\n",
       "    </tr>\n",
       "    <tr>\n",
       "      <th>17073</th>\n",
       "      <td>20191231</td>\n",
       "      <td>행주</td>\n",
       "      <td>0.007</td>\n",
       "      <td>0.028</td>\n",
       "      <td>0.6</td>\n",
       "      <td>0.004</td>\n",
       "      <td>27</td>\n",
       "      <td>13</td>\n",
       "    </tr>\n",
       "    <tr>\n",
       "      <th>17074</th>\n",
       "      <td>20191231</td>\n",
       "      <td>홍릉로</td>\n",
       "      <td>0.025</td>\n",
       "      <td>0.018</td>\n",
       "      <td>0.5</td>\n",
       "      <td>0.004</td>\n",
       "      <td>27</td>\n",
       "      <td>16</td>\n",
       "    </tr>\n",
       "    <tr>\n",
       "      <th>17075</th>\n",
       "      <td>20191231</td>\n",
       "      <td>화랑로</td>\n",
       "      <td>0.019</td>\n",
       "      <td>0.02</td>\n",
       "      <td>0.2</td>\n",
       "      <td>0.004</td>\n",
       "      <td>20</td>\n",
       "      <td>13</td>\n",
       "    </tr>\n",
       "  </tbody>\n",
       "</table>\n",
       "<p>17076 rows × 8 columns</p>\n",
       "</div>"
      ],
      "text/plain": [
       "              0     1             2          3             4           5  \\\n",
       "0          측정일시  측정소명  이산화질소농도(ppm)  오존농도(ppm)  이산화탄소농도(ppm)  아황산가스(ppm)   \n",
       "1      20190101   강남구         0.028      0.012           0.6       0.005   \n",
       "2      20190101  강남대로         0.041       0.01           0.9       0.004   \n",
       "3      20190101   강동구          0.04       0.01           0.8       0.005   \n",
       "4      20190101  강변북로         0.048      0.009           0.5       0.005   \n",
       "...         ...   ...           ...        ...           ...         ...   \n",
       "17071  20191231  청계천로         0.016      0.023           0.4       0.003   \n",
       "17072  20191231  한강대로          0.02      0.018           0.4       0.003   \n",
       "17073  20191231    행주         0.007      0.028           0.6       0.004   \n",
       "17074  20191231   홍릉로         0.025      0.018           0.5       0.004   \n",
       "17075  20191231   화랑로         0.019       0.02           0.2       0.004   \n",
       "\n",
       "               6           7  \n",
       "0      미세먼지(㎍/㎥)  초미세먼지(㎍/㎥)  \n",
       "1             37          31  \n",
       "2             40          28  \n",
       "3             43          32  \n",
       "4             45          27  \n",
       "...          ...         ...  \n",
       "17071         24          17  \n",
       "17072         27          12  \n",
       "17073         27          13  \n",
       "17074         27          16  \n",
       "17075         20          13  \n",
       "\n",
       "[17076 rows x 8 columns]"
      ]
     },
     "execution_count": 31,
     "metadata": {},
     "output_type": "execute_result"
    }
   ],
   "source": [
    "rc = pd.read_csv('일별평균대기오염도_2019.csv',header = None, encoding='euc-kr')\n",
    "rc"
   ]
  },
  {
   "cell_type": "code",
   "execution_count": 32,
   "metadata": {},
   "outputs": [],
   "source": [
    "# 열 이름 지정\n",
    "rc.columns= ['측정일시','측정소명','이산화질소농도','오존농도','이산화탄소농도','아황산가스','미세먼지','초미세먼지']"
   ]
  },
  {
   "cell_type": "code",
   "execution_count": 33,
   "metadata": {},
   "outputs": [
    {
     "name": "stdout",
     "output_type": "stream",
     "text": [
      "       측정일시  측정소명       이산화질소농도       오존농도       이산화탄소농도       아황산가스  \\\n",
      "0      측정일시  측정소명  이산화질소농도(ppm)  오존농도(ppm)  이산화탄소농도(ppm)  아황산가스(ppm)   \n",
      "1  20190101   강남구         0.028      0.012           0.6       0.005   \n",
      "2  20190101  강남대로         0.041       0.01           0.9       0.004   \n",
      "3  20190101   강동구          0.04       0.01           0.8       0.005   \n",
      "4  20190101  강변북로         0.048      0.009           0.5       0.005   \n",
      "\n",
      "        미세먼지       초미세먼지  \n",
      "0  미세먼지(㎍/㎥)  초미세먼지(㎍/㎥)  \n",
      "1         37          31  \n",
      "2         40          28  \n",
      "3         43          32  \n",
      "4         45          27  \n",
      "Wn\n",
      "           측정일시  측정소명 이산화질소농도   오존농도 이산화탄소농도  아황산가스 미세먼지 초미세먼지\n",
      "17071  20191231  청계천로   0.016  0.023     0.4  0.003   24    17\n",
      "17072  20191231  한강대로    0.02  0.018     0.4  0.003   27    12\n",
      "17073  20191231    행주   0.007  0.028     0.6  0.004   27    13\n",
      "17074  20191231   홍릉로   0.025  0.018     0.5  0.004   27    16\n",
      "17075  20191231   화랑로   0.019   0.02     0.2  0.004   20    13\n"
     ]
    }
   ],
   "source": [
    "print(rc.head())\n",
    "print('Wn')\n",
    "print(rc.tail())"
   ]
  },
  {
   "cell_type": "markdown",
   "metadata": {},
   "source": [
    "#### head() 함수\n",
    "* 인자 n 사용, 기본값 5\n",
    "* 데이터프레임의 앞부분 일부 행을 반환\n",
    "\n",
    "#### tail()) 함수\n",
    "* 인자 n 사용, 기본값 5\n",
    "* 데이터프레임의 마지막 일부 행을 반환"
   ]
  },
  {
   "cell_type": "code",
   "execution_count": 34,
   "metadata": {},
   "outputs": [
    {
     "data": {
      "text/plain": [
       "(17076, 8)"
      ]
     },
     "execution_count": 34,
     "metadata": {},
     "output_type": "execute_result"
    }
   ],
   "source": [
    "rc.shape # 데이터프레임의 크기"
   ]
  },
  {
   "cell_type": "code",
   "execution_count": 35,
   "metadata": {},
   "outputs": [
    {
     "name": "stdout",
     "output_type": "stream",
     "text": [
      "<class 'pandas.core.frame.DataFrame'>\n",
      "RangeIndex: 17076 entries, 0 to 17075\n",
      "Data columns (total 8 columns):\n",
      " #   Column   Non-Null Count  Dtype \n",
      "---  ------   --------------  ----- \n",
      " 0   측정일시     17076 non-null  object\n",
      " 1   측정소명     17076 non-null  object\n",
      " 2   이산화질소농도  16602 non-null  object\n",
      " 3   오존농도     16674 non-null  object\n",
      " 4   이산화탄소농도  16586 non-null  object\n",
      " 5   아황산가스    16608 non-null  object\n",
      " 6   미세먼지     16489 non-null  object\n",
      " 7   초미세먼지    16493 non-null  object\n",
      "dtypes: object(8)\n",
      "memory usage: 1.0+ MB\n"
     ]
    }
   ],
   "source": [
    "rc.info() # 데이터프레임의 기본정보"
   ]
  },
  {
   "cell_type": "code",
   "execution_count": 36,
   "metadata": {},
   "outputs": [
    {
     "data": {
      "text/plain": [
       "측정일시       object\n",
       "측정소명       object\n",
       "이산화질소농도    object\n",
       "오존농도       object\n",
       "이산화탄소농도    object\n",
       "아황산가스      object\n",
       "미세먼지       object\n",
       "초미세먼지      object\n",
       "dtype: object"
      ]
     },
     "execution_count": 36,
     "metadata": {},
     "output_type": "execute_result"
    }
   ],
   "source": [
    "rc.dtypes"
   ]
  },
  {
   "cell_type": "code",
   "execution_count": 37,
   "metadata": {},
   "outputs": [
    {
     "name": "stdout",
     "output_type": "stream",
     "text": [
      "object\n"
     ]
    }
   ],
   "source": [
    "print(rc.초미세먼지.dtypes)"
   ]
  },
  {
   "cell_type": "code",
   "execution_count": 38,
   "metadata": {},
   "outputs": [
    {
     "name": "stdout",
     "output_type": "stream",
     "text": [
      "            측정일시   측정소명 이산화질소농도   오존농도 이산화탄소농도  아황산가스   미세먼지  초미세먼지\n",
      "count      17076  17076   16602  16674   16586  16608  16489  16493\n",
      "unique       357     51     108     91      35     18    206    153\n",
      "top     20190610    송파구   0.021   0.02     0.4  0.004     26     20\n",
      "freq          50    356     443    498    3272   5509    403    654\n"
     ]
    }
   ],
   "source": [
    "#describe() -> 숫자 데이터를 갖는 열에 대해 주요 통계 정보\n",
    "print(rc.describe())"
   ]
  },
  {
   "cell_type": "code",
   "execution_count": 39,
   "metadata": {},
   "outputs": [
    {
     "data": {
      "text/plain": [
       "측정일시       17076\n",
       "측정소명       17076\n",
       "이산화질소농도    16602\n",
       "오존농도       16674\n",
       "이산화탄소농도    16586\n",
       "아황산가스      16608\n",
       "미세먼지       16489\n",
       "초미세먼지      16493\n",
       "dtype: int64"
      ]
     },
     "execution_count": 39,
     "metadata": {},
     "output_type": "execute_result"
    }
   ],
   "source": [
    "# count() - 각 열이 갖고 있는 요소 개수를 시리즈 객체로 반환\n",
    "rc.count()"
   ]
  },
  {
   "cell_type": "code",
   "execution_count": 40,
   "metadata": {},
   "outputs": [
    {
     "data": {
      "text/plain": [
       "20     654\n",
       "19     651\n",
       "21     618\n",
       "15     607\n",
       "17     606\n",
       "      ... \n",
       "121      1\n",
       "110      1\n",
       "142      1\n",
       "107      1\n",
       "127      1\n",
       "Name: 초미세먼지, Length: 153, dtype: int64"
      ]
     },
     "execution_count": 40,
     "metadata": {},
     "output_type": "execute_result"
    }
   ],
   "source": [
    "# value_counts() -> 고유값은 행 인덱스, 고유값의 개수는 데이터 값이 되는 시리즈 생성\n",
    "rc['초미세먼지'].value_counts()"
   ]
  },
  {
   "cell_type": "code",
   "execution_count": 42,
   "metadata": {},
   "outputs": [
    {
     "data": {
      "text/plain": [
       "Series([], dtype: float64)"
      ]
     },
     "execution_count": 42,
     "metadata": {},
     "output_type": "execute_result"
    }
   ],
   "source": [
    "# mean()함수 -> 모든 열의 평균값 반환\n",
    "rc.mean()"
   ]
  },
  {
   "cell_type": "code",
   "execution_count": 43,
   "metadata": {},
   "outputs": [
    {
     "data": {
      "text/plain": [
       "Series([], dtype: float64)"
      ]
     },
     "execution_count": 43,
     "metadata": {},
     "output_type": "execute_result"
    }
   ],
   "source": [
    "# median() -> 중간값 계산\n",
    "rc.median()"
   ]
  },
  {
   "cell_type": "code",
   "execution_count": 44,
   "metadata": {},
   "outputs": [
    {
     "data": {
      "text/plain": [
       "Series([], dtype: float64)"
      ]
     },
     "execution_count": 44,
     "metadata": {},
     "output_type": "execute_result"
    }
   ],
   "source": [
    "# max() -> 최댓값 계산\n",
    "rc.max()"
   ]
  },
  {
   "cell_type": "code",
   "execution_count": 45,
   "metadata": {},
   "outputs": [
    {
     "data": {
      "text/plain": [
       "Series([], dtype: float64)"
      ]
     },
     "execution_count": 45,
     "metadata": {},
     "output_type": "execute_result"
    }
   ],
   "source": [
    "# min() -> 최솟값 계산\n",
    "rc.min()"
   ]
  },
  {
   "cell_type": "code",
   "execution_count": 47,
   "metadata": {},
   "outputs": [
    {
     "data": {
      "text/plain": [
       "Series([], dtype: float64)"
      ]
     },
     "execution_count": 47,
     "metadata": {},
     "output_type": "execute_result"
    }
   ],
   "source": [
    "# std() -> 표준편차 계산\n",
    "rc.std()"
   ]
  },
  {
   "cell_type": "code",
   "execution_count": 48,
   "metadata": {},
   "outputs": [
    {
     "data": {
      "text/html": [
       "<div>\n",
       "<style scoped>\n",
       "    .dataframe tbody tr th:only-of-type {\n",
       "        vertical-align: middle;\n",
       "    }\n",
       "\n",
       "    .dataframe tbody tr th {\n",
       "        vertical-align: top;\n",
       "    }\n",
       "\n",
       "    .dataframe thead th {\n",
       "        text-align: right;\n",
       "    }\n",
       "</style>\n",
       "<table border=\"1\" class=\"dataframe\">\n",
       "  <thead>\n",
       "    <tr style=\"text-align: right;\">\n",
       "      <th></th>\n",
       "    </tr>\n",
       "  </thead>\n",
       "  <tbody>\n",
       "  </tbody>\n",
       "</table>\n",
       "</div>"
      ],
      "text/plain": [
       "Empty DataFrame\n",
       "Columns: []\n",
       "Index: []"
      ]
     },
     "execution_count": 48,
     "metadata": {},
     "output_type": "execute_result"
    }
   ],
   "source": [
    "# corr() -> 모든 열에 대해 2개씩 짝을 짓고 각 경우의 상관계수를 계산\n",
    "rc.corr()"
   ]
  }
 ],
 "metadata": {
  "kernelspec": {
   "display_name": "Python 3",
   "language": "python",
   "name": "python3"
  },
  "language_info": {
   "codemirror_mode": {
    "name": "ipython",
    "version": 3
   },
   "file_extension": ".py",
   "mimetype": "text/x-python",
   "name": "python",
   "nbconvert_exporter": "python",
   "pygments_lexer": "ipython3",
   "version": "3.8.5"
  }
 },
 "nbformat": 4,
 "nbformat_minor": 4
}
