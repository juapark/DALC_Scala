{
 "cells": [
  {
   "cell_type": "markdown",
   "metadata": {},
   "source": [
    "### 판다스 = 데이터를 시각화하거나 머신러닝 라이브러리로 데이터 분석을 할 때 유용하게 사용 가능"
   ]
  },
  {
   "cell_type": "markdown",
   "metadata": {},
   "source": [
    "# 1. Matplotlib 소개와 사용법"
   ]
  },
  {
   "cell_type": "markdown",
   "metadata": {},
   "source": [
    "## matplotlib\n",
    "* 파이썬에서 그래프 표시를 가능하게 해주는 라이브러리\n",
    "* 다양한 운영체제에서 사용, 다양한 포맷에서 그래프 생성\n",
    "\n",
    "* 구축방법) 파이썬 설치 필수, 코랩에는 기본 설치 가능"
   ]
  },
  {
   "cell_type": "code",
   "execution_count": 1,
   "metadata": {},
   "outputs": [],
   "source": [
    "# matplotlib 불러오기\n",
    "import matplotlib as mpl\n",
    "import matplotlib.pyplot as plt"
   ]
  },
  {
   "cell_type": "code",
   "execution_count": 2,
   "metadata": {},
   "outputs": [],
   "source": [
    "# 기본 스타일 설정\n",
    "plt.style.use('classic')"
   ]
  },
  {
   "cell_type": "code",
   "execution_count": 3,
   "metadata": {},
   "outputs": [],
   "source": [
    "# matplotlib 그림 파일 저장\n",
    "#plt.savefig('my_figure.jpg') 확장자와 함께 입력"
   ]
  },
  {
   "cell_type": "markdown",
   "metadata": {},
   "source": [
    "### MATLAB 스타일\n",
    "* 단순하고 편리함\n",
    "* Matlab 사용자 친화적\n",
    "* 단순한 그림을 빠르게 그릴 생각\n",
    "\n",
    "### 객체 지향 스타일\n",
    "* 복잡하고 상세한 설정 가능\n",
    "* 파이썬 프로그램 친화적\n",
    "* 여러가지 옵션을 적용하여 복잡한 그림을 그릴 때"
   ]
  },
  {
   "cell_type": "markdown",
   "metadata": {},
   "source": [
    "### matlab 스타일 인터페이스\n",
    "#### plt.figure()  그림이 담길 틀 생성\n",
    "#### x = np.linspace(-10, 10, 100) 두 개의 패널 중 첫 번째 패널을 생성하고 현재 축을 설정\n",
    "#### plt.subplot(2, 1, 1) plt.plot(x, np.sin(x)) 2행 1열 구조 그리드의 첫번째 패널에 사인 그래프 작성\n",
    "#### plt.subplot(2, 1, 2) plt.plot(x, np.sin(x)) 2행 1열 구조 그리드의 두 번째 패널에 사인 그래프 작성"
   ]
  },
  {
   "cell_type": "markdown",
   "metadata": {},
   "source": [
    "### 객체 지향 스타일 인터페이스\n",
    "#### 플롯 그리드를 생성\n",
    "#### Ax는 두 개의 축 객체의 배열 형성 -> fig, ax= plt.subplots(2,1)\n",
    "#### 적절한 객체의 plot 메소드를 호출"
   ]
  }
 ],
 "metadata": {
  "kernelspec": {
   "display_name": "Python 3",
   "language": "python",
   "name": "python3"
  },
  "language_info": {
   "codemirror_mode": {
    "name": "ipython",
    "version": 3
   },
   "file_extension": ".py",
   "mimetype": "text/x-python",
   "name": "python",
   "nbconvert_exporter": "python",
   "pygments_lexer": "ipython3",
   "version": "3.8.5"
  }
 },
 "nbformat": 4,
 "nbformat_minor": 4
}
