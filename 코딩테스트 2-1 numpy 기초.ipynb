{
 "cells": [
  {
   "cell_type": "markdown",
   "metadata": {},
   "source": [
    "# 2-1 numpy 기초"
   ]
  },
  {
   "cell_type": "markdown",
   "metadata": {},
   "source": [
    "## 빅데이터(Big Data)\n",
    "* 기존 데이터보다 방대하여 기존 방법이나 도구로는 데이터의 수집이나 저장, 분석 등이 어려운 정형 및 비정형 데이터를 의미함\n",
    "* 디지털 환경에서 생성되는 데이터가 생성 주기가 짧음\n",
    "* 형태도 수치 데이터뿐만 아니라 문자와 영상 데이터를 포함하는 대규모 데이터"
   ]
  },
  {
   "cell_type": "markdown",
   "metadata": {},
   "source": [
    "### 빅데이터 처리와 분석을 위한 대표적인 프로그래밍 언어\n",
    "* R\n",
    "* 파이썬"
   ]
  },
  {
   "cell_type": "markdown",
   "metadata": {},
   "source": [
    "#### R\n",
    "* 통계학자들에 의해 애초부터 통계 업무를 위해 만들어진 언어이기 때문에 통계학적인 요소가 잘 스며들어 있는 도구"
   ]
  },
  {
   "cell_type": "markdown",
   "metadata": {},
   "source": [
    "#### Python\n",
    "* 퀴도 반 로섬이 1991년에 처음 배포한 언어\n",
    "* 단순한 문법 구조를 가진 고수준의 언어\n",
    "* 이해하기 쉽고 유연한 문법의 특징\n",
    "* 연산 능력을 극대화 시켜주는 오픈소스 라이브러리가 풍부하여 높은 접근성"
   ]
  },
  {
   "cell_type": "markdown",
   "metadata": {},
   "source": [
    "#### 파이썬을 빅데이터 분야에서 널리 사용하는 이유\n",
    "* 다양한 패키지가 목적에 맞게 개발되어 있고, 그리고 꾸준히 개발 및 출시되고 있음\n",
    "* 패키지 중에 동일한 데이터 타입을 가진 배열 기반의 데이터를 처리하기 위한 numpy, \n",
    "* data frame 형태로 데이터를 다룰 수 있게 해주는 Pandas\n",
    "* 일반적인 과학 계산 작업을 위한 SciPy\n",
    "* 데이터 시각화를 위한 Matplotlib\n",
    "* 머신러닝을 위한 Scikit-Learn 등등"
   ]
  },
  {
   "cell_type": "markdown",
   "metadata": {},
   "source": [
    "##### 데이터는 다양한 원천으로 나오며, 이미지, 사운드, 수치 등 다양한 형식으로 존재\n",
    "##### 컴퓨터 내부에서 연산을 처리하기 위해서는 데이터 자체를 숫자 배열로 변환하여 처리하는 것이 도움"
   ]
  },
  {
   "cell_type": "markdown",
   "metadata": {},
   "source": [
    "#### 데이터를 처리하기 위한 단계\n",
    "* 1. 원본 데이터를 숫자 배열로 변환하기 -> 좀 더 편한 방식으로 연산을 적용"
   ]
  },
  {
   "cell_type": "markdown",
   "metadata": {},
   "source": [
    "### Numpy\n",
    "* 숫자 배열을 전문적으로 다룰 수 있는 패키지\n",
    "* Numerical Python의 줄임말\n",
    "* 벡터 및 행렬 연산에 있어서 매우 유용한 기능을 제공\n",
    "* 빅데이터 분석 및 처리, 머신러닝 등에서 요구하는 데이터 유형은 기본적으로 다차원(multi-dimensional) array를 요구 -> 배열을 전문적으로 다루는 numpy가 적당\n",
    "* Numpy는 빅데이터 분석을 위해 사용되는 라이브러리인 pandas와 matplotlib에서 기본으로 사용되는 패키지\n",
    "* numpy는 기본적으로 array라는 단위로 데이터를 관리하며 이를 기반으로 연산을 수행\n",
    "##### array\n",
    "* 동일한 데이터 타입을 갖는 벡터나 행렬로 볼 수 있습니다."
   ]
  },
  {
   "cell_type": "markdown",
   "metadata": {},
   "source": [
    "#### numpy 사용하기\n",
    "##### 1. import numpy as np( 별칭 np 사용하기)"
   ]
  },
  {
   "cell_type": "code",
   "execution_count": 2,
   "metadata": {},
   "outputs": [],
   "source": [
    "import numpy as np"
   ]
  },
  {
   "cell_type": "code",
   "execution_count": 3,
   "metadata": {},
   "outputs": [
    {
     "name": "stdout",
     "output_type": "stream",
     "text": [
      "[1, 2, 3, 4, 5] [6, 5, 4, 3, 2, 1]\n"
     ]
    }
   ],
   "source": [
    "data1 = [ 1, 2, 3, 4, 5]\n",
    "data2 = [6, 5, 4, 3, 2, 1]\n",
    "print(data1, data2)"
   ]
  },
  {
   "cell_type": "code",
   "execution_count": 4,
   "metadata": {},
   "outputs": [
    {
     "data": {
      "text/plain": [
       "array([1, 2, 3, 4, 5])"
      ]
     },
     "execution_count": 4,
     "metadata": {},
     "output_type": "execute_result"
    }
   ],
   "source": [
    "ar1 = np.array(data1)\n",
    "ar1"
   ]
  },
  {
   "cell_type": "code",
   "execution_count": 5,
   "metadata": {},
   "outputs": [
    {
     "data": {
      "text/plain": [
       "array([1., 2., 3., 4., 5.], dtype=float32)"
      ]
     },
     "execution_count": 5,
     "metadata": {},
     "output_type": "execute_result"
    }
   ],
   "source": [
    "# 데이터 타입 지정하기(dtype)\n",
    "ar2 = np.array(data1, dtype = 'float32')\n",
    "ar2 # 기존에는 정수 배열값, 이후에는 실수 배열값"
   ]
  },
  {
   "cell_type": "code",
   "execution_count": 6,
   "metadata": {},
   "outputs": [
    {
     "data": {
      "text/plain": [
       "array([[1, 2, 3],\n",
       "       [2, 3, 4],\n",
       "       [3, 4, 5],\n",
       "       [4, 5, 6],\n",
       "       [5, 6, 7]])"
      ]
     },
     "execution_count": 6,
     "metadata": {},
     "output_type": "execute_result"
    }
   ],
   "source": [
    "# 다차원 구성도 가능\n",
    "ar3 = np.array([range(i, i + 3) for i in data1])\n",
    "ar3"
   ]
  },
  {
   "cell_type": "code",
   "execution_count": 7,
   "metadata": {},
   "outputs": [
    {
     "data": {
      "text/plain": [
       "array([[3.14, 3.14, 3.14, 3.14, 3.14],\n",
       "       [3.14, 3.14, 3.14, 3.14, 3.14],\n",
       "       [3.14, 3.14, 3.14, 3.14, 3.14]])"
      ]
     },
     "execution_count": 7,
     "metadata": {},
     "output_type": "execute_result"
    }
   ],
   "source": [
    "ar4 = np.full((3, 5), 3.14)\n",
    "ar4\n",
    "# full 함수의 첫 번째 인자 = 배열 크기\n",
    "# full 함수의 두 번째 인자 = 배열에 넣을 지정값"
   ]
  },
  {
   "cell_type": "code",
   "execution_count": 8,
   "metadata": {},
   "outputs": [
    {
     "data": {
      "text/plain": [
       "array([ 0,  2,  4,  6,  8, 10, 12, 14, 16, 18])"
      ]
     },
     "execution_count": 8,
     "metadata": {},
     "output_type": "execute_result"
    }
   ],
   "source": [
    "# 0부터 시작해서 2씩 더해 20까지 채운 배열을 만드는 예시\n",
    "ar5 = np.arange(0, 20, 2)\n",
    "ar5"
   ]
  },
  {
   "cell_type": "code",
   "execution_count": 9,
   "metadata": {},
   "outputs": [
    {
     "data": {
      "text/plain": [
       "array([0. , 0.5, 1. ])"
      ]
     },
     "execution_count": 9,
     "metadata": {},
     "output_type": "execute_result"
    }
   ],
   "source": [
    "# 0과 1 사이에 일정한 간격을 가진 세 개의 값으로 채워진 배열\n",
    "ar6 = np.linspace(0, 1, 3)\n",
    "ar6"
   ]
  },
  {
   "cell_type": "code",
   "execution_count": 10,
   "metadata": {},
   "outputs": [
    {
     "data": {
      "text/plain": [
       "array([[0.51245871, 0.90348822, 0.09672806],\n",
       "       [0.65839253, 0.53989633, 0.85242921],\n",
       "       [0.53442992, 0.11134647, 0.19863798]])"
      ]
     },
     "execution_count": 10,
     "metadata": {},
     "output_type": "execute_result"
    }
   ],
   "source": [
    "# 무작위 값의 배열 구성\n",
    "ar7 = np.random.random((3, 3))\n",
    "ar7"
   ]
  },
  {
   "cell_type": "code",
   "execution_count": 12,
   "metadata": {},
   "outputs": [
    {
     "data": {
      "text/plain": [
       "array([[75, 75, 26],\n",
       "       [80, 64, 84],\n",
       "       [39, 31, 12]])"
      ]
     },
     "execution_count": 12,
     "metadata": {},
     "output_type": "execute_result"
    }
   ],
   "source": [
    "ar8 =  np.random.randint(0, 100, (3, 3))\n",
    "ar8\n",
    "# randint의 첫 번째 인자 = 구간의 시작\n",
    "# randint의 두 번째 인자 = 구간의 끝\n",
    "# randint의 세 번째 인자 = 배열의 크기"
   ]
  },
  {
   "cell_type": "code",
   "execution_count": 13,
   "metadata": {},
   "outputs": [
    {
     "data": {
      "text/plain": [
       "array([[1., 0., 0.],\n",
       "       [0., 1., 0.],\n",
       "       [0., 0., 1.]])"
      ]
     },
     "execution_count": 13,
     "metadata": {},
     "output_type": "execute_result"
    }
   ],
   "source": [
    "# eye함수\n",
    "ar9 = np.eye(3)\n",
    "ar9\n",
    "# 대각선으로는 1이고 나머지는 0 값을 가진 2차원 배열"
   ]
  },
  {
   "cell_type": "markdown",
   "metadata": {},
   "source": [
    "### 배열 속성"
   ]
  },
  {
   "cell_type": "markdown",
   "metadata": {},
   "source": [
    "##### print(\"x ndim:\", x.ndim) # 차원의 개수\n",
    "##### print(\"x shape:\", x.shape) # 각 차원의 크기\n",
    "##### print(\"x size:\", x.size) # 전체 배열의 크기"
   ]
  },
  {
   "cell_type": "markdown",
   "metadata": {},
   "source": [
    "### 배열 인덱싱\n",
    "* 개별 배열 요솟값을 가져오거나 특정 위치에 값을 설정하기 위해 사용"
   ]
  },
  {
   "cell_type": "markdown",
   "metadata": {},
   "source": [
    "### 첫 번째 인덱스 = 0\n",
    "* 꺽쇠괄호 안에 원하는 인덱스를 지정하여 배열의 요솟값에 접근할 수 있습니다.\n",
    "### 음수 인덱스를 사용하여 배열의 끝에서부터 인덱싱하여 접근 가능"
   ]
  },
  {
   "cell_type": "markdown",
   "metadata": {},
   "source": [
    "### 배열 슬라이싱\n",
    "*  배열 내부에 있는 요솟값으로 이루어진 하위 배열을 가져오거나 설정하기 위해 사용되는 기능\n",
    "* 콜론(:) 기호를 나타내는 슬라이스(slice) 표기법을 사용하여 하위 배열에 접근할 수 있으며,\n",
    "* 화면에 나타난 규칙에 따라 배열 x의 슬라이스에 접근할 수 있습니다. "
   ]
  },
  {
   "cell_type": "code",
   "execution_count": 15,
   "metadata": {},
   "outputs": [
    {
     "data": {
      "text/plain": [
       "array([4, 5, 6, 7])"
      ]
     },
     "execution_count": 15,
     "metadata": {},
     "output_type": "execute_result"
    }
   ],
   "source": [
    "x = np.arange(10)\n",
    "x[4:8]"
   ]
  },
  {
   "cell_type": "code",
   "execution_count": 16,
   "metadata": {},
   "outputs": [
    {
     "data": {
      "text/plain": [
       "array([0, 1, 2, 3, 4])"
      ]
     },
     "execution_count": 16,
     "metadata": {},
     "output_type": "execute_result"
    }
   ],
   "source": [
    "x = np.arange(10)\n",
    "x[:5]"
   ]
  },
  {
   "cell_type": "code",
   "execution_count": 18,
   "metadata": {},
   "outputs": [
    {
     "data": {
      "text/plain": [
       "array([[ 2,  4,  6,  8],\n",
       "       [ 3,  6,  9, 12],\n",
       "       [ 4,  8, 12, 16]])"
      ]
     },
     "execution_count": 18,
     "metadata": {},
     "output_type": "execute_result"
    }
   ],
   "source": [
    "# 다차원 배열 슬라이싱\n",
    "z = np.array([[2, 4, 6, 8], [3, 6, 9, 12], [4, 8, 12, 16]])\n",
    "z"
   ]
  },
  {
   "cell_type": "markdown",
   "metadata": {},
   "source": [
    "### 배열의 재구조화"
   ]
  },
  {
   "cell_type": "code",
   "execution_count": 20,
   "metadata": {
    "scrolled": true
   },
   "outputs": [
    {
     "data": {
      "text/plain": [
       "array([[1, 2, 3],\n",
       "       [4, 5, 6],\n",
       "       [7, 8, 9]])"
      ]
     },
     "execution_count": 20,
     "metadata": {},
     "output_type": "execute_result"
    }
   ],
   "source": [
    "z = np.arange(1, 10).reshape(3, 3)\n",
    "z"
   ]
  },
  {
   "cell_type": "markdown",
   "metadata": {},
   "source": [
    "### 배열 연결\n",
    "* numpy에서는 concatenate, vstack, hstack 루틴을 이용해 두 배열 결합하거나 연결을 할 수가 있습니다."
   ]
  },
  {
   "cell_type": "markdown",
   "metadata": {},
   "source": [
    "#### 혼합된 차원의 배열로 작업할 때는\n",
    "* vstack : 수직 스택\n",
    "* hstack : 수평 스택"
   ]
  },
  {
   "cell_type": "markdown",
   "metadata": {},
   "source": [
    "y = np.array([[99], [99]])\n",
    "z = np.hstack([grid, y])\n",
    "z"
   ]
  },
  {
   "cell_type": "markdown",
   "metadata": {},
   "source": [
    "### 배열 분할\n",
    "* 결합의 반대는 분할\n",
    "* numpy에서 지원하는 배열 분할 함수로는 대표적으로 split, hsplit, vsplit 함수가 있습니다."
   ]
  },
  {
   "cell_type": "code",
   "execution_count": 23,
   "metadata": {},
   "outputs": [
    {
     "name": "stdout",
     "output_type": "stream",
     "text": [
      "[1 2 3] [77 77] [3 2 1]\n"
     ]
    }
   ],
   "source": [
    "x = [1, 2, 3, 77, 77, 3, 2, 1]\n",
    "x1, x2, x3 = np.split(x, [3, 5])\n",
    "print(x1, x2, x3)"
   ]
  },
  {
   "cell_type": "code",
   "execution_count": 24,
   "metadata": {},
   "outputs": [
    {
     "name": "stdout",
     "output_type": "stream",
     "text": [
      "[[0 1 2 3]\n",
      " [4 5 6 7]]\n",
      "[[ 8  9 10 11]\n",
      " [12 13 14 15]]\n"
     ]
    }
   ],
   "source": [
    "grid = np.arange(16).reshape((4, 4))\n",
    "upper, lower = np.vsplit(grid, [2])\n",
    "print(upper)\n",
    "print(lower)"
   ]
  },
  {
   "cell_type": "code",
   "execution_count": 25,
   "metadata": {},
   "outputs": [
    {
     "name": "stdout",
     "output_type": "stream",
     "text": [
      "[[ 0  1]\n",
      " [ 4  5]\n",
      " [ 8  9]\n",
      " [12 13]]\n",
      "[[ 2  3]\n",
      " [ 6  7]\n",
      " [10 11]\n",
      " [14 15]]\n"
     ]
    }
   ],
   "source": [
    "grid = np.arange(16).reshape((4, 4))\n",
    "upper, lower = np.hsplit(grid, [2])\n",
    "print(upper)\n",
    "print(lower)"
   ]
  }
 ],
 "metadata": {
  "kernelspec": {
   "display_name": "Python 3",
   "language": "python",
   "name": "python3"
  },
  "language_info": {
   "codemirror_mode": {
    "name": "ipython",
    "version": 3
   },
   "file_extension": ".py",
   "mimetype": "text/x-python",
   "name": "python",
   "nbconvert_exporter": "python",
   "pygments_lexer": "ipython3",
   "version": "3.8.5"
  }
 },
 "nbformat": 4,
 "nbformat_minor": 4
}
